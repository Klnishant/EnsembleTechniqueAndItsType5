{
 "cells": [
  {
   "cell_type": "markdown",
   "id": "819195b1-3e77-49f7-8d4d-80b208349298",
   "metadata": {},
   "source": [
    "#### Q1. You are working on a machine learning project where you have a dataset containing numerical and categorical features. You have identified that some of the features are highly correlated and there are missing values in some of the columns. You want to build a pipeline that automates the feature engineering process and handles the missing values."
   ]
  },
  {
   "cell_type": "markdown",
   "id": "4fabba5d-5a85-4da6-9bf0-30e6705b5068",
   "metadata": {},
   "source": [
    "#### Design a pipeline that includes the following steps."
   ]
  },
  {
   "cell_type": "markdown",
   "id": "66ea02a0-abd7-49b3-be65-814489f80d3e",
   "metadata": {},
   "source": [
    "- Use an automated feature selection method to identify the important features in the dataset.\n",
    "- Create a numerical pipeline that includes the following steps.\n",
    "- Impute the missing values in the numerical columns using the mean of the column values.\n",
    "- Scale the numerical columns using standardisation.\n",
    "- Create a categorical pipeline that includes the following steps.\n",
    "- Impute the missing values in the categorical columns using the most frequent value of the column.\n",
    "- One-hot encode the categorical columns.\n",
    "- Combine the numerical and categorical pipelines using a ColumnTransformer.\n",
    "- Use a Random Forest Classifier to build the final modelC\n",
    "- Evaluate the accuracy of the model on the test datasetD"
   ]
  },
  {
   "cell_type": "code",
   "execution_count": 25,
   "id": "70f35d9f-8ee7-4f53-be5e-9751de9a1fe7",
   "metadata": {},
   "outputs": [],
   "source": [
    "import pandas as pd\n",
    "from sklearn.feature_selection import SelectFromModel\n",
    "import seaborn as sns"
   ]
  },
  {
   "cell_type": "code",
   "execution_count": 26,
   "id": "616cb063-e703-49db-ada8-91a942fc1dff",
   "metadata": {},
   "outputs": [],
   "source": [
    "data=sns.load_dataset('tips')"
   ]
  },
  {
   "cell_type": "code",
   "execution_count": 27,
   "id": "947feb3b-c27f-4ac2-a579-1fe4692d2c51",
   "metadata": {},
   "outputs": [],
   "source": [
    "data.to_csv('tips.csv', index=False)"
   ]
  },
  {
   "cell_type": "code",
   "execution_count": 28,
   "id": "bb03f3bb-530a-484d-b430-7de978ccdc20",
   "metadata": {},
   "outputs": [
    {
     "data": {
      "text/html": [
       "<div>\n",
       "<style scoped>\n",
       "    .dataframe tbody tr th:only-of-type {\n",
       "        vertical-align: middle;\n",
       "    }\n",
       "\n",
       "    .dataframe tbody tr th {\n",
       "        vertical-align: top;\n",
       "    }\n",
       "\n",
       "    .dataframe thead th {\n",
       "        text-align: right;\n",
       "    }\n",
       "</style>\n",
       "<table border=\"1\" class=\"dataframe\">\n",
       "  <thead>\n",
       "    <tr style=\"text-align: right;\">\n",
       "      <th></th>\n",
       "      <th>total_bill</th>\n",
       "      <th>tip</th>\n",
       "      <th>size</th>\n",
       "    </tr>\n",
       "  </thead>\n",
       "  <tbody>\n",
       "    <tr>\n",
       "      <th>count</th>\n",
       "      <td>244.000000</td>\n",
       "      <td>244.000000</td>\n",
       "      <td>244.000000</td>\n",
       "    </tr>\n",
       "    <tr>\n",
       "      <th>mean</th>\n",
       "      <td>19.785943</td>\n",
       "      <td>2.998279</td>\n",
       "      <td>2.569672</td>\n",
       "    </tr>\n",
       "    <tr>\n",
       "      <th>std</th>\n",
       "      <td>8.902412</td>\n",
       "      <td>1.383638</td>\n",
       "      <td>0.951100</td>\n",
       "    </tr>\n",
       "    <tr>\n",
       "      <th>min</th>\n",
       "      <td>3.070000</td>\n",
       "      <td>1.000000</td>\n",
       "      <td>1.000000</td>\n",
       "    </tr>\n",
       "    <tr>\n",
       "      <th>25%</th>\n",
       "      <td>13.347500</td>\n",
       "      <td>2.000000</td>\n",
       "      <td>2.000000</td>\n",
       "    </tr>\n",
       "    <tr>\n",
       "      <th>50%</th>\n",
       "      <td>17.795000</td>\n",
       "      <td>2.900000</td>\n",
       "      <td>2.000000</td>\n",
       "    </tr>\n",
       "    <tr>\n",
       "      <th>75%</th>\n",
       "      <td>24.127500</td>\n",
       "      <td>3.562500</td>\n",
       "      <td>3.000000</td>\n",
       "    </tr>\n",
       "    <tr>\n",
       "      <th>max</th>\n",
       "      <td>50.810000</td>\n",
       "      <td>10.000000</td>\n",
       "      <td>6.000000</td>\n",
       "    </tr>\n",
       "  </tbody>\n",
       "</table>\n",
       "</div>"
      ],
      "text/plain": [
       "       total_bill         tip        size\n",
       "count  244.000000  244.000000  244.000000\n",
       "mean    19.785943    2.998279    2.569672\n",
       "std      8.902412    1.383638    0.951100\n",
       "min      3.070000    1.000000    1.000000\n",
       "25%     13.347500    2.000000    2.000000\n",
       "50%     17.795000    2.900000    2.000000\n",
       "75%     24.127500    3.562500    3.000000\n",
       "max     50.810000   10.000000    6.000000"
      ]
     },
     "execution_count": 28,
     "metadata": {},
     "output_type": "execute_result"
    }
   ],
   "source": [
    "data.describe()"
   ]
  },
  {
   "cell_type": "code",
   "execution_count": 29,
   "id": "3cda65fc-3b7a-4244-935e-c9041ae1f8b0",
   "metadata": {},
   "outputs": [
    {
     "data": {
      "text/plain": [
       "total_bill    0\n",
       "tip           0\n",
       "sex           0\n",
       "smoker        0\n",
       "day           0\n",
       "time          0\n",
       "size          0\n",
       "dtype: int64"
      ]
     },
     "execution_count": 29,
     "metadata": {},
     "output_type": "execute_result"
    }
   ],
   "source": [
    "data.isnull().sum()"
   ]
  },
  {
   "cell_type": "code",
   "execution_count": 30,
   "id": "3875532f-4a51-4f77-a1e1-f25461ed3fb1",
   "metadata": {},
   "outputs": [
    {
     "data": {
      "text/plain": [
       "total_bill    0\n",
       "tip           0\n",
       "sex           0\n",
       "smoker        0\n",
       "day           0\n",
       "time          0\n",
       "size          0\n",
       "dtype: int64"
      ]
     },
     "execution_count": 30,
     "metadata": {},
     "output_type": "execute_result"
    }
   ],
   "source": [
    "data.isna().sum()"
   ]
  },
  {
   "cell_type": "code",
   "execution_count": 31,
   "id": "242a017d-5db1-4b76-843d-b15ab44735e1",
   "metadata": {},
   "outputs": [],
   "source": [
    "from sklearn.model_selection import train_test_split"
   ]
  },
  {
   "cell_type": "code",
   "execution_count": 32,
   "id": "122f6238-ac7d-460f-83b2-b9b30414c423",
   "metadata": {},
   "outputs": [],
   "source": [
    "from sklearn.ensemble import RandomForestClassifier\n",
    "from sklearn.preprocessing import StandardScaler,OneHotEncoder\n",
    "from sklearn.pipeline import Pipeline\n",
    "from sklearn.compose import ColumnTransformer\n",
    "from sklearn.impute import SimpleImputer"
   ]
  },
  {
   "cell_type": "code",
   "execution_count": 33,
   "id": "9341e787-043f-4a8d-a9e8-ffd500104e7b",
   "metadata": {},
   "outputs": [],
   "source": [
    "numerical_pipeline=Pipeline([('imputer',SimpleImputer(strategy='mean')),\n",
    "                            ('scaler',StandardScaler())])"
   ]
  },
  {
   "cell_type": "code",
   "execution_count": 34,
   "id": "c958e850-b048-4177-b6ee-9c055a4f433e",
   "metadata": {},
   "outputs": [],
   "source": [
    "categorical_pipeline=Pipeline([('imputer',SimpleImputer(strategy='most_frequent')),\n",
    "                              ('encoder',OneHotEncoder())])"
   ]
  },
  {
   "cell_type": "code",
   "execution_count": 35,
   "id": "de606e4e-f1d0-46be-9df3-c351ec0cc005",
   "metadata": {},
   "outputs": [],
   "source": [
    "preprocessor=ColumnTransformer([('numerical', numerical_pipeline, ['total_bill','tip','size']),\n",
    "    ('categorical', categorical_pipeline, ['sex','day','time'])])"
   ]
  },
  {
   "cell_type": "code",
   "execution_count": 51,
   "id": "b1255058-0f32-4e43-8a20-dd82e07544f2",
   "metadata": {},
   "outputs": [],
   "source": [
    "x=data.drop('smoker',axis=1)\n",
    "y=data['smoker']"
   ]
  },
  {
   "cell_type": "code",
   "execution_count": 52,
   "id": "78f71abd-8b76-4216-b6f5-106016ea434c",
   "metadata": {},
   "outputs": [],
   "source": [
    "x=preprocessor.fit_transform(x)"
   ]
  },
  {
   "cell_type": "code",
   "execution_count": 53,
   "id": "421fe538-8bb5-4834-8b7f-12926b8a2c18",
   "metadata": {},
   "outputs": [],
   "source": [
    "encoder=OneHotEncoder()"
   ]
  },
  {
   "cell_type": "code",
   "execution_count": 54,
   "id": "2743e801-bb4f-4a97-89a2-caa83e4e8ff9",
   "metadata": {},
   "outputs": [],
   "source": [
    "x_train,x_test,y_train,y_test=train_test_split(x,y,test_size=0.2,random_state=42)"
   ]
  },
  {
   "cell_type": "code",
   "execution_count": 55,
   "id": "388b1b9b-f358-4d68-a7f8-59fcfe01ea00",
   "metadata": {},
   "outputs": [],
   "source": [
    "rf_classifier=RandomForestClassifier()"
   ]
  },
  {
   "cell_type": "code",
   "execution_count": 56,
   "id": "690b42cf-6e24-4285-899a-dfc54669bf34",
   "metadata": {},
   "outputs": [
    {
     "data": {
      "text/html": [
       "<style>#sk-container-id-2 {color: black;background-color: white;}#sk-container-id-2 pre{padding: 0;}#sk-container-id-2 div.sk-toggleable {background-color: white;}#sk-container-id-2 label.sk-toggleable__label {cursor: pointer;display: block;width: 100%;margin-bottom: 0;padding: 0.3em;box-sizing: border-box;text-align: center;}#sk-container-id-2 label.sk-toggleable__label-arrow:before {content: \"▸\";float: left;margin-right: 0.25em;color: #696969;}#sk-container-id-2 label.sk-toggleable__label-arrow:hover:before {color: black;}#sk-container-id-2 div.sk-estimator:hover label.sk-toggleable__label-arrow:before {color: black;}#sk-container-id-2 div.sk-toggleable__content {max-height: 0;max-width: 0;overflow: hidden;text-align: left;background-color: #f0f8ff;}#sk-container-id-2 div.sk-toggleable__content pre {margin: 0.2em;color: black;border-radius: 0.25em;background-color: #f0f8ff;}#sk-container-id-2 input.sk-toggleable__control:checked~div.sk-toggleable__content {max-height: 200px;max-width: 100%;overflow: auto;}#sk-container-id-2 input.sk-toggleable__control:checked~label.sk-toggleable__label-arrow:before {content: \"▾\";}#sk-container-id-2 div.sk-estimator input.sk-toggleable__control:checked~label.sk-toggleable__label {background-color: #d4ebff;}#sk-container-id-2 div.sk-label input.sk-toggleable__control:checked~label.sk-toggleable__label {background-color: #d4ebff;}#sk-container-id-2 input.sk-hidden--visually {border: 0;clip: rect(1px 1px 1px 1px);clip: rect(1px, 1px, 1px, 1px);height: 1px;margin: -1px;overflow: hidden;padding: 0;position: absolute;width: 1px;}#sk-container-id-2 div.sk-estimator {font-family: monospace;background-color: #f0f8ff;border: 1px dotted black;border-radius: 0.25em;box-sizing: border-box;margin-bottom: 0.5em;}#sk-container-id-2 div.sk-estimator:hover {background-color: #d4ebff;}#sk-container-id-2 div.sk-parallel-item::after {content: \"\";width: 100%;border-bottom: 1px solid gray;flex-grow: 1;}#sk-container-id-2 div.sk-label:hover label.sk-toggleable__label {background-color: #d4ebff;}#sk-container-id-2 div.sk-serial::before {content: \"\";position: absolute;border-left: 1px solid gray;box-sizing: border-box;top: 0;bottom: 0;left: 50%;z-index: 0;}#sk-container-id-2 div.sk-serial {display: flex;flex-direction: column;align-items: center;background-color: white;padding-right: 0.2em;padding-left: 0.2em;position: relative;}#sk-container-id-2 div.sk-item {position: relative;z-index: 1;}#sk-container-id-2 div.sk-parallel {display: flex;align-items: stretch;justify-content: center;background-color: white;position: relative;}#sk-container-id-2 div.sk-item::before, #sk-container-id-2 div.sk-parallel-item::before {content: \"\";position: absolute;border-left: 1px solid gray;box-sizing: border-box;top: 0;bottom: 0;left: 50%;z-index: -1;}#sk-container-id-2 div.sk-parallel-item {display: flex;flex-direction: column;z-index: 1;position: relative;background-color: white;}#sk-container-id-2 div.sk-parallel-item:first-child::after {align-self: flex-end;width: 50%;}#sk-container-id-2 div.sk-parallel-item:last-child::after {align-self: flex-start;width: 50%;}#sk-container-id-2 div.sk-parallel-item:only-child::after {width: 0;}#sk-container-id-2 div.sk-dashed-wrapped {border: 1px dashed gray;margin: 0 0.4em 0.5em 0.4em;box-sizing: border-box;padding-bottom: 0.4em;background-color: white;}#sk-container-id-2 div.sk-label label {font-family: monospace;font-weight: bold;display: inline-block;line-height: 1.2em;}#sk-container-id-2 div.sk-label-container {text-align: center;}#sk-container-id-2 div.sk-container {/* jupyter's `normalize.less` sets `[hidden] { display: none; }` but bootstrap.min.css set `[hidden] { display: none !important; }` so we also need the `!important` here to be able to override the default hidden behavior on the sphinx rendered scikit-learn.org. See: https://github.com/scikit-learn/scikit-learn/issues/21755 */display: inline-block !important;position: relative;}#sk-container-id-2 div.sk-text-repr-fallback {display: none;}</style><div id=\"sk-container-id-2\" class=\"sk-top-container\"><div class=\"sk-text-repr-fallback\"><pre>RandomForestClassifier()</pre><b>In a Jupyter environment, please rerun this cell to show the HTML representation or trust the notebook. <br />On GitHub, the HTML representation is unable to render, please try loading this page with nbviewer.org.</b></div><div class=\"sk-container\" hidden><div class=\"sk-item\"><div class=\"sk-estimator sk-toggleable\"><input class=\"sk-toggleable__control sk-hidden--visually\" id=\"sk-estimator-id-2\" type=\"checkbox\" checked><label for=\"sk-estimator-id-2\" class=\"sk-toggleable__label sk-toggleable__label-arrow\">RandomForestClassifier</label><div class=\"sk-toggleable__content\"><pre>RandomForestClassifier()</pre></div></div></div></div></div>"
      ],
      "text/plain": [
       "RandomForestClassifier()"
      ]
     },
     "execution_count": 56,
     "metadata": {},
     "output_type": "execute_result"
    }
   ],
   "source": [
    "rf_classifier.fit(x_train,y_train)"
   ]
  },
  {
   "cell_type": "code",
   "execution_count": 57,
   "id": "685b4b4e-2b51-46dc-b74d-aa817a941d9f",
   "metadata": {},
   "outputs": [],
   "source": [
    "feature_selector = SelectFromModel(RandomForestClassifier(n_estimators=100))\n",
    "selected_features = feature_selector.fit_transform(x_train, y_train)"
   ]
  },
  {
   "cell_type": "code",
   "execution_count": 58,
   "id": "1e1a8afc-0a61-4c49-b12a-ee02cfb00540",
   "metadata": {},
   "outputs": [],
   "source": [
    "y_pred=rf_classifier.predict(x_test)"
   ]
  },
  {
   "cell_type": "code",
   "execution_count": 59,
   "id": "4897c239-5f50-4340-bbab-debbddabc14e",
   "metadata": {},
   "outputs": [
    {
     "data": {
      "text/plain": [
       "array(['No', 'No', 'No', 'No', 'Yes', 'No', 'No', 'No', 'No', 'Yes', 'No',\n",
       "       'Yes', 'No', 'No', 'No', 'No', 'No', 'Yes', 'No', 'No', 'No', 'No',\n",
       "       'No', 'No', 'Yes', 'No', 'No', 'Yes', 'No', 'No', 'Yes', 'No',\n",
       "       'No', 'No', 'No', 'No', 'No', 'No', 'Yes', 'Yes', 'No', 'No', 'No',\n",
       "       'No', 'No', 'No', 'Yes', 'No', 'No'], dtype=object)"
      ]
     },
     "execution_count": 59,
     "metadata": {},
     "output_type": "execute_result"
    }
   ],
   "source": [
    "y_pred"
   ]
  },
  {
   "cell_type": "code",
   "execution_count": 60,
   "id": "ddf1ae8c-85cf-4b14-aad7-ed16b01d86c6",
   "metadata": {},
   "outputs": [],
   "source": [
    "from sklearn.metrics import accuracy_score"
   ]
  },
  {
   "cell_type": "code",
   "execution_count": 61,
   "id": "6354bf1c-95b4-4bdf-8ab1-dbec35b1d86c",
   "metadata": {},
   "outputs": [
    {
     "name": "stdout",
     "output_type": "stream",
     "text": [
      "Accuracy: 0.673469387755102\n"
     ]
    }
   ],
   "source": [
    "print(\"Accuracy:\",accuracy_score(y_test,y_pred))"
   ]
  },
  {
   "cell_type": "markdown",
   "id": "2cc7bfa2-4df9-49d5-b9b4-83080614da6f",
   "metadata": {},
   "source": [
    "Explanation of each step:\n",
    "\n",
    "Feature Selection: Use SelectFromModel to select the important features based on the Random Forest Classifier.\n",
    "\n",
    "Numerical Pipeline: Impute the missing values in numerical columns using the mean of the column values and scale the numerical columns using standardization.\n",
    "\n",
    "Categorical Pipeline: Impute the missing values in categorical columns using the most frequent value of the column and perform one-hot encoding on the categorical columns.\n",
    "\n",
    "ColumnTransformer: Combine the numerical and categorical pipelines using ColumnTransformer to apply the preprocessing steps to the respective column types.\n",
    "\n",
    "Random Forest Classifier: Build the final model using the Random Forest Classifier.\n",
    "\n",
    "Evaluate Model: Predict the target variable on the test dataset and evaluate the model's accuracy.\n",
    "\n",
    "Interpretation of the results and possible improvements:\n",
    "The pipeline automates the feature engineering process by handling missing values, scaling numerical features, and one-hot encoding categorical features. The Random Forest Classifier is used as the final model. The accuracy score obtained on the test dataset provides an estimate of the model's performance.\n",
    "\n",
    "Possible improvements for the pipeline could include:"
   ]
  },
  {
   "cell_type": "markdown",
   "id": "24dd2799-eb84-436a-acbf-908b9a7b51a5",
   "metadata": {},
   "source": [
    "The pipeline automates the feature engineering process by handling missing values, scaling numerical features, and one-hot encoding categorical features. The Random Forest Classifier is used as the final model. The accuracy score obtained on the test dataset provides an estimate of the model's performance.\n",
    "\n",
    "Possible improvements for the pipeline could include:\n",
    "\n",
    "Trying different imputation strategies, such as using median or regression-based imputation, depending on the nature of the missing data.\n",
    "Experimenting with different feature selection techniques or adjusting the hyperparameters of the Random Forest Classifier for better feature selection.\n",
    "Trying different models or ensemble methods to improve the classification performance.\n",
    "Conducting more thorough exploratory data analysis to identify additional data preprocessing steps or feature engineering techniques that could benefit the model's performance.\n",
    "These improvements depend on the specific characteristics of your dataset"
   ]
  },
  {
   "cell_type": "markdown",
   "id": "07b051fa-fb8c-46c2-8b68-065a538a01ca",
   "metadata": {},
   "source": [
    "#### Q2. Build a pipeline that includes a random forest classifier and a logistic regression classifier, and then use a voting classifier to combine their predictions. Train the pipeline on the iris dataset and evaluate its accuracy."
   ]
  },
  {
   "cell_type": "code",
   "execution_count": 62,
   "id": "311ec39a-15dc-4319-8eaa-d5d84f13f162",
   "metadata": {},
   "outputs": [
    {
     "name": "stdout",
     "output_type": "stream",
     "text": [
      "Accuracy: 1.0\n"
     ]
    }
   ],
   "source": [
    "from sklearn.datasets import load_iris\n",
    "from sklearn.ensemble import RandomForestClassifier, VotingClassifier\n",
    "from sklearn.linear_model import LogisticRegression\n",
    "from sklearn.model_selection import train_test_split\n",
    "from sklearn.pipeline import Pipeline\n",
    "from sklearn.preprocessing import StandardScaler\n",
    "from sklearn.metrics import accuracy_score\n",
    "\n",
    "# Load the Iris dataset\n",
    "iris = load_iris()\n",
    "X, y = iris.data, iris.target\n",
    "\n",
    "# Split the dataset into train and test sets\n",
    "X_train, X_test, y_train, y_test = train_test_split(X, y, test_size=0.2, random_state=42)\n",
    "\n",
    "# Create the individual classifiers\n",
    "random_forest = RandomForestClassifier(n_estimators=100, random_state=42)\n",
    "logistic_regression = LogisticRegression(random_state=42)\n",
    "\n",
    "# Create the pipeline with StandardScaler and the classifiers\n",
    "pipeline = Pipeline([\n",
    "    ('scaler', StandardScaler()),\n",
    "    ('ensemble', VotingClassifier(\n",
    "        estimators=[('rf', random_forest), ('lr', logistic_regression)],\n",
    "        voting='soft'  # Use soft voting for probabilities\n",
    "    ))\n",
    "])\n",
    "\n",
    "# Train the pipeline on the training data\n",
    "pipeline.fit(X_train, y_train)\n",
    "\n",
    "# Predict on the test data\n",
    "y_pred = pipeline.predict(X_test)\n",
    "\n",
    "# Evaluate the accuracy\n",
    "accuracy = accuracy_score(y_test, y_pred)\n",
    "print(\"Accuracy:\", accuracy)\n"
   ]
  },
  {
   "cell_type": "code",
   "execution_count": null,
   "id": "41c1342d-b07f-41ab-bdc1-0033bf556af1",
   "metadata": {},
   "outputs": [],
   "source": []
  }
 ],
 "metadata": {
  "kernelspec": {
   "display_name": "Python 3 (ipykernel)",
   "language": "python",
   "name": "python3"
  },
  "language_info": {
   "codemirror_mode": {
    "name": "ipython",
    "version": 3
   },
   "file_extension": ".py",
   "mimetype": "text/x-python",
   "name": "python",
   "nbconvert_exporter": "python",
   "pygments_lexer": "ipython3",
   "version": "3.10.8"
  }
 },
 "nbformat": 4,
 "nbformat_minor": 5
}
